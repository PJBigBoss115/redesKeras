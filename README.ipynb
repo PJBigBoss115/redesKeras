{
 "cells": [
  {
   "cell_type": "markdown",
   "metadata": {
    "id": "AbvofIryqO2T",
    "toc": true
   },
   "source": [
    "<h1>Table of Contents<span class=\"tocSkip\"></span></h1>\n",
    "<div class=\"toc\"><ul class=\"toc-item\"><li><span><a href=\"#Primera-práctica:-Introducción-a-las-redes-neuronales-con-Keras\" data-toc-modified-id=\"Primera-práctica:-Introducción-a-las-redes-neuronales-con-Keras-1\"><span class=\"toc-item-num\">1&nbsp;&nbsp;</span>Primera práctica: Introducción a las redes neuronales con Keras</a></span><ul class=\"toc-item\"><li><span><a href=\"#1.-Información-sobre-el-dataset\" data-toc-modified-id=\"1.-Información-sobre-el-dataset-1.1\"><span class=\"toc-item-num\">1.1&nbsp;&nbsp;</span>1. Información sobre el dataset</a></span></li><li><span><a href=\"#2.-Entrenamiento-de-una-red-neuronal-simple\" data-toc-modified-id=\"2.-Entrenamiento-de-una-red-neuronal-simple-1.2\"><span class=\"toc-item-num\">1.2&nbsp;&nbsp;</span>2. Entrenamiento de una red neuronal simple</a></span></li><li><span><a href=\"#3.-Evaluación-del-modelo-en-datos-de-test\" data-toc-modified-id=\"3.-Evaluación-del-modelo-en-datos-de-test-1.3\"><span class=\"toc-item-num\">1.3&nbsp;&nbsp;</span>3. Evaluación del modelo en datos de test</a></span></li></ul></li></ul></div>"
   ]
  },
  {
   "cell_type": "markdown",
   "metadata": {
    "id": "iiDzBoKGwmMZ"
   },
   "source": [
    "# Primera práctica: Introducción a las redes neuronales con Keras\n",
    "\n",
    "En esta primera práctica, vamos a utilizar una red neuronal para clasificar imágenes de prendas de ropa. Para ello, utilizaremos Keras con TensorFlow.\n",
    "\n",
    "El dataset a utilizar es Fashion MNIST, un problema sencillo con imágenes pequeñas de ropa, pero más interesante que el dataset de MNIST. Puedes consultar más información sobre el dataset en [este enlace](https://github.com/zalandoresearch/fashion-mnist).\n",
    "\n",
    "El código utilizado para contestar tiene que quedar claramente reflejado en el Notebook. Puedes crear nuevas cells si así lo deseas para estructurar tu código y sus salidas. A la hora de entregar el notebook, **asegúrate de que los resultados de ejecutar tu código han quedado guardados** (por ejemplo, a la hora de entrenar una red neuronal tiene que verse claramente un log de los resultados de cada epoch)."
   ]
  },
  {
   "cell_type": "code",
   "execution_count": null,
   "metadata": {
    "id": "gSHr268SwmMa"
   },
   "outputs": [],
   "source": [
    "import keras\n",
    "from keras.datasets import fashion_mnist\n",
    "from keras.models import Sequential\n",
    "from keras.layers import Dense\n",
    "import tensorflow as tf\n",
    "\n",
    "import matplotlib.pyplot as plt"
   ]
  },
  {
   "cell_type": "markdown",
   "metadata": {
    "id": "PhYq8-CvwmMc"
   },
   "source": [
    "Primero, vamos a obtener los datos. Por suerte para nosotros, estos pueden ser descargados directamente desde Keras, por lo que no tendremos que preocuparnos de tratar con ficheros."
   ]
  },
  {
   "cell_type": "code",
   "execution_count": null,
   "metadata": {
    "id": "0mjrFULOwmMd"
   },
   "outputs": [],
   "source": [
    "(x_train, y_train), (x_test, y_test) = fashion_mnist.load_data()"
   ]
  },
  {
   "cell_type": "markdown",
   "metadata": {
    "id": "AOVoeoj0wmMe"
   },
   "source": [
    "Acto seguido, normalizamos esos datos de manera similar a como hemos visto con MNIST, obteniendo valores entre 0 y 1. Este paso es muy importante para el correcto funcionamiento de nuestra red."
   ]
  },
  {
   "cell_type": "code",
   "execution_count": null,
   "metadata": {
    "id": "5EgKN2YWwmMf"
   },
   "outputs": [],
   "source": [
    "x_train = x_train / 255.0\n",
    "x_test = x_test / 255.0"
   ]
  },
  {
   "cell_type": "markdown",
   "metadata": {
    "id": "BaqXlSMBwmMg"
   },
   "source": [
    "## 1. Información sobre el dataset"
   ]
  },
  {
   "cell_type": "markdown",
   "metadata": {
    "id": "e0aer8ZZwmMh"
   },
   "source": [
    "Una vez tenemos los datos cargados en memoria, vamos a obtener información sobre los mismos."
   ]
  },
  {
   "cell_type": "markdown",
   "metadata": {
    "id": "E-im9PnEwmMh"
   },
   "source": [
    "**Pregunta 1.1 *(0.5 puntos)*** ¿Cuántas imágenes hay de *training* y de *test*? ¿Qué tamaño tienen las imágenes?"
   ]
  },
  {
   "cell_type": "code",
   "execution_count": null,
   "metadata": {
    "id": "lvP0Y4SCwmMi"
   },
   "outputs": [],
   "source": [
    "# Numero de imagenes en el conjunto de entrenamiento\n",
    "print(f'Numero de imagenes en el conjunto de entrenamiento: {x_train.shape[0]}')\n",
    "\n",
    "# Numero de imagenes en el conjunto de prueba\n",
    "print(f'Numero de imagenes en el conjunto de prueba: {x_test.shape[0]}')\n",
    "\n",
    "# Tamaño de cada imagen\n",
    "print(f'Tamaño de cada imagen: {x_train.shape[1]}x{x_train.shape[2]} pixeles')\n",
    "\n",
    "\"\"\"\n",
    "Numero de imagenes en el conjunto de entrenamiento: 60000\n",
    "Numero de imagenes en el conjunto de prueba: 10000\n",
    "Tamaño de cada imagen: 28x28 pixeles\n",
    "\"\"\""
   ]
  },
  {
   "cell_type": "markdown",
   "metadata": {
    "id": "Xwp5ljFKwmMj"
   },
   "source": [
    "*Tu respuesta aquí*"
   ]
  },
  {
   "cell_type": "markdown",
   "metadata": {
    "id": "F2LsvfHOwmMk"
   },
   "source": [
    "**Pregunta 1.2 *(0.5 puntos)*** Realizar una exploración de las variables que contienen los datos. Describir en qué consiste un example del dataset (qué información se guarda en cada imagen) y describir qué contiene la información en y."
   ]
  },
  {
   "cell_type": "code",
   "execution_count": null,
   "metadata": {
    "id": "3W5rzaGxwmMk"
   },
   "outputs": [],
   "source": [
    "# Mostrar las dimensiones de los conjuntos\n",
    "print(\"Dimensiones del conjunto de entrenamiento (imagenes):\", x_train.shape)\n",
    "print(\"Dimensiones del conjunto de prueba (imagenes):\", x_test.shape)\n",
    "\n",
    "# Mostrar un ejemplo de los datos de imagen\n",
    "plt.imshow(x_train[0], cmap='gray')\n",
    "plt.title(f'Etiqueta de la imagen: {y_train[0]}')\n",
    "plt.colorbar()\n",
    "plt.show()\n",
    "\n",
    "# Mostrar el rango de valores de los píxeles\n",
    "print(\"Valor minimo de pixel:\", np.min(x_train))\n",
    "print(\"Valor maximo de pixel:\", np.max(x_train))\n",
    "\n",
    "# Contar la cantidad de ejemplos por categoria en el conjunto de entrenamiento\n",
    "unique, counts = np.unique(y_train, return_counts=True)\n",
    "print(\"Numero de ejemplos por categoria en el entrenamiento:\", dict(zip(unique, counts)))\n",
    "\n",
    "\"\"\"\n",
    "Dimensiones del conjunto de entrenamiento (imagenes): (60000, 28, 28)\n",
    "Dimensiones del conjunto de prueba (imagenes): (10000, 28, 28)\n",
    "Valor minimo de pixel: 0.0\n",
    "Valor maximo de pixel: 1.0\n",
    "Numero de ejemplos por categoria en el entrenamiento: {0: 6000, 1: 6000, 2: 6000, 3: 6000, 4: 6000, 5: 6000, 6: 6000, 7: 6000, 8: 6000, 9: 6000}\n",
    "\"\"\"\n",
    "\n",
    "#Respuestas\n",
    "\"\"\"\n",
    "Cada imagen en el conjunto de datos Fashion MNIST es un arreglo de 28x28 \n",
    "pixeles cada pixel representa una intensidad en escala de grises de 0 a 255\n",
    "\n",
    "Los datos son de prendas de vestir son un total de 10 elementos:\n",
    "Camisa, Pantalones, Sueteres, Vestido, Chumpa, Chanclas, Camisas, Zapatos, Bolsa y Botas\n",
    "\n",
    "Y en 'y' tenemos datos de 0 a 9 los culaes coresponden a cada prenda para poder identificarla.\n",
    "\"\"\""
   ]
  },
  {
   "cell_type": "markdown",
   "metadata": {
    "id": "zaEWKFyvwmMm"
   },
   "source": [
    "*Tu respuesta aquí*"
   ]
  },
  {
   "cell_type": "markdown",
   "metadata": {
    "id": "HPNa3nH0wmMn"
   },
   "source": [
    "Vamos a **visualizar** una imagen de ejemplo. Prueba tu mismo a cambiar la imagen en uso para explorar el dataset visualmente ejecutando el siguiente código:"
   ]
  },
  {
   "cell_type": "code",
   "execution_count": null,
   "metadata": {
    "id": "WlQx9uk3wmMn"
   },
   "outputs": [],
   "source": [
    "def visualize_example(x):\n",
    "    plt.figure()\n",
    "    plt.imshow(x)\n",
    "    plt.colorbar()\n",
    "    plt.grid(False)\n",
    "    plt.show()"
   ]
  },
  {
   "cell_type": "code",
   "execution_count": null,
   "metadata": {
    "id": "YTHt4fd2wmMp",
    "outputId": "491b032b-a674-4185-b04a-bf2156bacb7e"
   },
   "outputs": [
    {
     "data": {
      "image/png": "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",
      "text/plain": [
       "<matplotlib.figure.Figure at 0x7f0230b18358>"
      ]
     },
     "metadata": {
      "tags": []
     },
     "output_type": "display_data"
    }
   ],
   "source": [
    "visualize_example(x_train[5])"
   ]
  },
  {
   "cell_type": "markdown",
   "metadata": {
    "id": "USVefNOIwmMt"
   },
   "source": [
    "## 2. Entrenamiento de una red neuronal simple"
   ]
  },
  {
   "cell_type": "markdown",
   "metadata": {
    "id": "sSWjUeOdwmMt"
   },
   "source": [
    "**Pregunta 2 *(7.0 puntos)***. Utilizando Keras, y preparando los datos de X e y como fuera necesario, define y entrena una red neuronal que sea capaz de clasificar imágenes de Fashion MNIST con las siguientes características:\n",
    "\n",
    "* Dos hidden layers de tamaños 128 y 64, utilizando unidades **sigmoid**\n",
    "* Optimizador **sgd**.\n",
    "* Durante el entrenamiento, la red tiene que mostrar resultados de **loss** y **accuracy** por cada epoch.\n",
    "* La red debe entrenar durante **20 epochs** y batch size de **64**.\n",
    "* La última capa debe de ser una capa **softmax**.\n",
    "\n",
    "Tu red tendría que ser capaz de superar fácilmente 60% de accuracy."
   ]
  },
  {
   "cell_type": "code",
   "execution_count": null,
   "metadata": {
    "id": "cCh7qRMTwmMt"
   },
   "outputs": [],
   "source": [
    "import numpy as np\n",
    "from tensorflow import keras\n",
    "from tensorflow.keras.models import Sequential\n",
    "from tensorflow.keras.layers import Dense, Flatten\n",
    "from tensorflow.keras.utils import to_categorical\n",
    "\n",
    "import matplotlib.pyplot as plt\n",
    "\n",
    "# Cargar los datos de Fashion MNIST\n",
    "(x_train, y_train), (x_test, y_test) = keras.datasets.fashion_mnist.load_data()\n",
    "\n",
    "# Normalizar las imagenes\n",
    "x_train = x_train / 255.0\n",
    "x_test = x_test / 255.0\n",
    "\n",
    "# Codificar las etiquetas en formato one-hot\n",
    "y_train = to_categorical(y_train, 10)\n",
    "y_test = to_categorical(y_test, 10)\n",
    "\n",
    "# Definir el modelo\n",
    "model = Sequential([\n",
    "    Flatten(input_shape=(28, 28)),  # Transformar de 28x28 a 784\n",
    "    Dense(128, activation='sigmoid'),  # Primera capa oculta con 128 unidades\n",
    "    Dense(64, activation='sigmoid'),  # Segunda capa oculta con 64 unidades\n",
    "    Dense(10, activation='softmax')  # Capa de salida con 10 clases\n",
    "])\n",
    "\n",
    "# Compilar el modelo\n",
    "model.compile(\n",
    "    optimizer='sgd',  # Usar el optimizador SGD\n",
    "    loss='categorical_crossentropy',  # Funcion de perdida para clasificacion\n",
    "    metrics=['accuracy']  # Monitorear la precision\n",
    ")\n",
    "\n",
    "# Entrenar el modelo\n",
    "history = model.fit(\n",
    "    x_train, y_train,\n",
    "    epochs=20,\n",
    "    batch_size=64,\n",
    "    validation_data=(x_test, y_test)  # Tambien podemos monitorear la precision en el conjunto de prueba\n",
    ")\n",
    "\n",
    "# Configurar el tamaño de la figura de las graficas\n",
    "plt.figure(figsize=(12, 5))\n",
    "\n",
    "# Crear un subplot para la precision\n",
    "plt.subplot(1, 2, 1)\n",
    "# Graficar la precision en el conjunto de entrenamiento\n",
    "plt.plot(history.history['accuracy'], label='Precision (entrenamiento)')\n",
    "# Graficar la precision en el conjunto de validacion\n",
    "plt.plot(history.history['val_accuracy'], label='Precision (validacion)')\n",
    "# Configurar el titulo del grafico\n",
    "plt.title('Precision por epoca')\n",
    "# Etiqueta del eje x\n",
    "plt.xlabel('Epoca')\n",
    "# Etiqueta del eje y\n",
    "plt.ylabel('Precision')\n",
    "# Mostrar la leyenda para identificar las lineas\n",
    "plt.legend()\n",
    "\n",
    "# Crear un subplot para la perdida\n",
    "plt.subplot(1, 2, 2)\n",
    "# Graficar la perdida en el conjunto de entrenamiento\n",
    "plt.plot(history.history['loss'], label='Perdida (entrenamiento)')\n",
    "# Graficar la perdida en el conjunto de validacion\n",
    "plt.plot(history.history['val_loss'], label='Perdida (validacion)')\n",
    "# Configurar el titulo del grafico\n",
    "plt.title('Perdida por epoca')\n",
    "# Etiqueta del eje x\n",
    "plt.xlabel('epoca')\n",
    "# Etiqueta del eje y\n",
    "plt.ylabel('Perdida')\n",
    "# Mostrar la leyenda para identificar las lineas\n",
    "plt.legend()\n",
    "\n",
    "# Mostrar las graficas\n",
    "plt.show()"
   ]
  },
  {
   "cell_type": "markdown",
   "metadata": {
    "id": "CZux6TmvwmMv"
   },
   "source": [
    "## 3. Evaluación del modelo en datos de test"
   ]
  },
  {
   "cell_type": "markdown",
   "metadata": {
    "id": "0SzHBkzrwmMw"
   },
   "source": [
    "Una vez hemos entrenado nuestro modelo, vamos a evaluarlo en los datos de test de Fashion MNIST.\n",
    "\n",
    "**Pregunta 3.1 *(1.0 puntos)***. Utilizando el modelo recién entrenado, obtener la accuracy resultante en el dataset de test."
   ]
  },
  {
   "cell_type": "code",
   "execution_count": null,
   "metadata": {
    "id": "9CSLZkW1wmMw"
   },
   "outputs": [],
   "source": [
    "# Evaluar el modelo en el conjunto de datos de prueba\n",
    "test_loss, test_accuracy = model.evaluate(x_test, y_test)\n",
    "\n",
    "# Imprimir la precision resultante\n",
    "print(f'La precision en el conjunto de prueba es: {test_accuracy:.2f}')\n",
    "\"\"\"\n",
    "La precision en el conjunto de prueba es: 0.79\n",
    "\"\"\""
   ]
  },
  {
   "cell_type": "markdown",
   "metadata": {
    "id": "ud0JCcZpwmMx"
   },
   "source": [
    "**Pregunta 3.2 *(1.0 puntos)***. Utilizando el método **predict** de Keras, realizar predicciones para los datos de test. Por cada predicción resultante, ¿qué significan los números que obtenemos al hacer predict? ¿Cómo podemos obtener el valor de la clase resultante? (recordar que estamos utilizando una capa softmax para clasificar)."
   ]
  },
  {
   "cell_type": "code",
   "execution_count": null,
   "metadata": {
    "id": "0wrXVJJ9wmMy"
   },
   "outputs": [],
   "source": [
    "# Realizar predicciones\n",
    "predictions = model.predict(x_test)\n",
    "\n",
    "# Convertir probabilidades a etiquetas de clase\n",
    "predicted_classes = np.argmax(predictions, axis=1)\n",
    "\n",
    "# Mostrar las primeras 10 predicciones y sus clases predichas\n",
    "for i in range(10):\n",
    "    plt.imshow(x_test[i], cmap='gray')\n",
    "    plt.title(f'Clase predicha: {predicted_classes[i]}')\n",
    "    plt.show()"
   ]
  },
  {
   "cell_type": "markdown",
   "metadata": {
    "id": "fZynBpMBwmM2"
   },
   "source": [
    "*Tu respuesta aquí*"
   ]
  }
 ],
 "metadata": {
  "colab": {
   "name": "Actividad_1_Parte_1.ipynb",
   "provenance": []
  },
  "kernelspec": {
   "display_name": "Python 3",
   "language": "python",
   "name": "python3"
  },
  "latex_envs": {
   "LaTeX_envs_menu_present": true,
   "autoclose": false,
   "autocomplete": true,
   "bibliofile": "biblio.bib",
   "cite_by": "apalike",
   "current_citInitial": 1,
   "eqLabelWithNumbers": true,
   "eqNumInitial": 1,
   "hotkeys": {
    "equation": "Ctrl-E",
    "itemize": "Ctrl-I"
   },
   "labels_anchors": false,
   "latex_user_defs": false,
   "report_style_numbering": false,
   "user_envs_cfg": false
  },
  "toc": {
   "base_numbering": 1,
   "nav_menu": {},
   "number_sections": true,
   "sideBar": true,
   "skip_h1_title": false,
   "title_cell": "Table of Contents",
   "title_sidebar": "Contents",
   "toc_cell": true,
   "toc_position": {},
   "toc_section_display": true,
   "toc_window_display": false
  }
